{
 "cells": [
  {
   "cell_type": "code",
   "execution_count": 41,
   "id": "245a4450-3b6d-4e77-9c94-a7fd2532a047",
   "metadata": {},
   "outputs": [],
   "source": [
    "import cv2\n",
    "import os\n",
    "import numpy as np\n",
    "from tensorflow.keras.preprocessing.image import img_to_array,array_to_img\n",
    "import matplotlib.pyplot as plt\n",
    "import tensorflow as tf"
   ]
  },
  {
   "cell_type": "code",
   "execution_count": 42,
   "id": "1c9c9204-b812-49ac-becf-db160e86e811",
   "metadata": {},
   "outputs": [],
   "source": [
    "orgFolder = \"./문화유산 이미지 자료/흑백원본_문화재청제공/\"\n",
    "predFolder = \"./문화유산 이미지 자료/변경본/\"\n",
    "saveFolder = \"./문화유산 이미지 자료/이미지병합결과/\""
   ]
  },
  {
   "cell_type": "code",
   "execution_count": 43,
   "id": "6274cbdd-c219-4eed-a5e4-d1ad9e6d717a",
   "metadata": {},
   "outputs": [],
   "source": [
    "if not os.path.exists(saveFolder):\n",
    "    os.makedirs(saveFolder)"
   ]
  },
  {
   "cell_type": "code",
   "execution_count": 44,
   "id": "1e9638d4-36b9-4de2-a6c2-86649911d2c3",
   "metadata": {},
   "outputs": [],
   "source": [
    "imgFileList = os.listdir(orgFolder)"
   ]
  },
  {
   "cell_type": "code",
   "execution_count": 45,
   "id": "3ec829ba-b968-4b68-9891-00d48d1e8781",
   "metadata": {},
   "outputs": [],
   "source": [
    "for fileName in imgFileList:\n",
    "\n",
    "    # fileName = imgFileList[0]\n",
    "\n",
    "    orgFullPath = os.path.join(orgFolder,fileName)\n",
    "\n",
    "    cvtFullPath = os.path.join(predFolder,fileName)\n",
    "\n",
    "    images = []\n",
    "\n",
    "    imgArray1 = np.fromfile(orgFullPath, np.uint8)\n",
    "    img1 = cv2.imdecode(imgArray1, cv2.IMREAD_COLOR)\n",
    "\n",
    "    imgArray2 = np.fromfile(cvtFullPath, np.uint8)\n",
    "    img2 = cv2.imdecode(imgArray2, cv2.IMREAD_COLOR)\n",
    "    img2 = cv2.cvtColor(img2, cv2.COLOR_BGR2RGB)\n",
    "    images.append(img1)\n",
    "    images.append(img2)\n",
    "\n",
    "    concat_image = np.hstack((images))\n",
    "    concatObjImg = array_to_img(concat_image)\n",
    "    \n",
    "    targetFullPath = os.path.join(saveFolder,fileName)\n",
    "    concatObjImg.save(targetFullPath)"
   ]
  },
  {
   "cell_type": "code",
   "execution_count": null,
   "id": "0f3360e7-a790-4ae8-bb61-d078c941fccf",
   "metadata": {},
   "outputs": [],
   "source": []
  }
 ],
 "metadata": {
  "kernelspec": {
   "display_name": "Python 3 (ipykernel)",
   "language": "python",
   "name": "python3"
  },
  "language_info": {
   "codemirror_mode": {
    "name": "ipython",
    "version": 3
   },
   "file_extension": ".py",
   "mimetype": "text/x-python",
   "name": "python",
   "nbconvert_exporter": "python",
   "pygments_lexer": "ipython3",
   "version": "3.9.7"
  }
 },
 "nbformat": 4,
 "nbformat_minor": 5
}
